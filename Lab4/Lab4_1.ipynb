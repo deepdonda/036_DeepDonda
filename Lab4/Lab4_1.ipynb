{
  "nbformat": 4,
  "nbformat_minor": 0,
  "metadata": {
    "colab": {
      "name": "Lab4_1.ipynb",
      "provenance": [],
      "collapsed_sections": []
    },
    "kernelspec": {
      "name": "python3",
      "display_name": "Python 3"
    },
    "language_info": {
      "name": "python"
    }
  },
  "cells": [
    {
      "cell_type": "code",
      "metadata": {
        "id": "7e8f5ktod5Cf"
      },
      "source": [
        "from sklearn import preprocessing\n",
        "from sklearn import datasets\n",
        "from sklearn.tree import DecisionTreeClassifier\n",
        "import pandas as pd\n",
        "import numpy as np"
      ],
      "execution_count": 1,
      "outputs": []
    },
    {
      "cell_type": "code",
      "metadata": {
        "id": "50MXG4yBfJl6"
      },
      "source": [
        "#Predictor variables\n",
        "Outlook = ['Rainy', 'Rainy', 'Overcast', 'Sunny', 'Sunny', 'Sunny', 'Overcast',\n",
        "            'Rainy', 'Rainy', 'Sunny', 'Rainy','Overcast', 'Overcast', 'Sunny']\n",
        "Temperature = ['Hot', 'Hot', 'Hot', 'Mild', 'Cool', 'Cool', 'Cool',\n",
        "                'Mild', 'Cool', 'Mild', 'Mild', 'Mild', 'Hot', 'Mild']\n",
        "Humidity = ['High', 'High', 'High', 'High', 'Normal', 'Normal', 'Normal',\n",
        "            'High', 'Normal', 'Normal', 'Normal', 'High', 'Normal', 'High']\n",
        "Wind = ['False', 'True', 'False', 'False', 'False', 'True', 'True',\n",
        "            'False', 'False', 'False', 'True', 'True', 'False', 'True']\n"
      ],
      "execution_count": 2,
      "outputs": []
    },
    {
      "cell_type": "code",
      "metadata": {
        "id": "zVLdt-6NfOwe"
      },
      "source": [
        "#Class Label:\n",
        "Play = ['No', 'No', 'Yes', 'Yes', 'Yes', 'No', 'Yes', 'No',\n",
        "'Yes', 'Yes', 'Yes', 'Yes', 'Yes', 'No']"
      ],
      "execution_count": 3,
      "outputs": []
    },
    {
      "cell_type": "code",
      "metadata": {
        "id": "4n2_lTc4fcEf"
      },
      "source": [
        "#creating labelEncoder\n",
        "le = preprocessing.LabelEncoder()"
      ],
      "execution_count": 4,
      "outputs": []
    },
    {
      "cell_type": "code",
      "metadata": {
        "colab": {
          "base_uri": "https://localhost:8080/"
        },
        "id": "sXvRX5ZMfc_W",
        "outputId": "7dc9cd53-8859-473b-b00b-d5c0b60f4a24"
      },
      "source": [
        "# Converting string labels into numbers.\n",
        "Outlook_encoded = le.fit_transform(Outlook)\n",
        "Outlook_name_mapping = dict(zip(le.classes_, le.transform(le.classes_)))\n",
        "print(\"Outllok mapping:\",Outlook_name_mapping)\n"
      ],
      "execution_count": 5,
      "outputs": [
        {
          "output_type": "stream",
          "name": "stdout",
          "text": [
            "Outllok mapping: {'Overcast': 0, 'Rainy': 1, 'Sunny': 2}\n"
          ]
        }
      ]
    },
    {
      "cell_type": "code",
      "metadata": {
        "colab": {
          "base_uri": "https://localhost:8080/"
        },
        "id": "UNyWluM5fg2v",
        "outputId": "ca497f92-63bd-4343-ae66-0f0f4c1ad9b8"
      },
      "source": [
        "Temperature_encoded = le.fit_transform(Temperature)\n",
        "Temperature_name_mapping = dict(zip(le.classes_, le.transform(le.classes_)))\n",
        "print(\"Temperature mapping:\",Temperature_name_mapping)"
      ],
      "execution_count": 6,
      "outputs": [
        {
          "output_type": "stream",
          "name": "stdout",
          "text": [
            "Temperature mapping: {'Cool': 0, 'Hot': 1, 'Mild': 2}\n"
          ]
        }
      ]
    },
    {
      "cell_type": "code",
      "metadata": {
        "colab": {
          "base_uri": "https://localhost:8080/"
        },
        "id": "DuuVqQ3zfrUF",
        "outputId": "0f94acd4-f12a-489c-f492-3e72df68c3ec"
      },
      "source": [
        "Humidity_encoded = le.fit_transform(Humidity)\n",
        "Humidity_name_mapping = dict(zip(le.classes_, le.transform(le.classes_)))\n",
        "print(\"Humidity mapping:\",Humidity_name_mapping)"
      ],
      "execution_count": 7,
      "outputs": [
        {
          "output_type": "stream",
          "name": "stdout",
          "text": [
            "Humidity mapping: {'High': 0, 'Normal': 1}\n"
          ]
        }
      ]
    },
    {
      "cell_type": "code",
      "metadata": {
        "colab": {
          "base_uri": "https://localhost:8080/"
        },
        "id": "gRpc-8F2fmZW",
        "outputId": "5a5474cb-5ceb-4013-c5cc-66ad6f189466"
      },
      "source": [
        "Wind_encoded = le.fit_transform(Wind)\n",
        "Wind_name_mapping = dict(zip(le.classes_, le.transform(le.classes_)))\n",
        "print(\"Wind mapping:\",Wind_name_mapping)\n"
      ],
      "execution_count": 8,
      "outputs": [
        {
          "output_type": "stream",
          "name": "stdout",
          "text": [
            "Wind mapping: {'False': 0, 'True': 1}\n"
          ]
        }
      ]
    },
    {
      "cell_type": "code",
      "metadata": {
        "colab": {
          "base_uri": "https://localhost:8080/"
        },
        "id": "JKlGNRvVfwfx",
        "outputId": "52c02460-b6d0-4c0c-a75a-8b251b1892fe"
      },
      "source": [
        "Play_encoded = le.fit_transform(Play)\n",
        "Play_name_mapping = dict(zip(le.classes_, le.transform(le.classes_)))\n",
        "print(\"Play mapping:\",Play_name_mapping)"
      ],
      "execution_count": 9,
      "outputs": [
        {
          "output_type": "stream",
          "name": "stdout",
          "text": [
            "Play mapping: {'No': 0, 'Yes': 1}\n"
          ]
        }
      ]
    },
    {
      "cell_type": "code",
      "metadata": {
        "colab": {
          "base_uri": "https://localhost:8080/"
        },
        "id": "WkY0U0zQf7mc",
        "outputId": "56838527-03cd-4033-96d8-ad5e56f8ae13"
      },
      "source": [
        "weather=pd.DataFrame(Outlook_encoded, columns=['Outlook'])\n",
        "weather['Temperature']=pd.DataFrame(Temperature_encoded, columns=['Temperature'])\n",
        "weather['Humidity']=pd.DataFrame(Humidity_encoded, columns=['Humidity'])\n",
        "weather['Wind']=pd.DataFrame(Wind_encoded, columns=['Wind'])\n",
        "weather['Play']=pd.DataFrame(Play_encoded, columns=['Play'])\n",
        "print(weather)\n"
      ],
      "execution_count": 10,
      "outputs": [
        {
          "output_type": "stream",
          "name": "stdout",
          "text": [
            "    Outlook  Temperature  Humidity  Wind  Play\n",
            "0         1            1         0     0     0\n",
            "1         1            1         0     1     0\n",
            "2         0            1         0     0     1\n",
            "3         2            2         0     0     1\n",
            "4         2            0         1     0     1\n",
            "5         2            0         1     1     0\n",
            "6         0            0         1     1     1\n",
            "7         1            2         0     0     0\n",
            "8         1            0         1     0     1\n",
            "9         2            2         1     0     1\n",
            "10        1            2         1     1     1\n",
            "11        0            2         0     1     1\n",
            "12        0            1         1     0     1\n",
            "13        2            2         0     1     0\n"
          ]
        }
      ]
    },
    {
      "cell_type": "code",
      "metadata": {
        "id": "RENiWuWLf_RK"
      },
      "source": [
        "from sklearn.model_selection import train_test_split\n",
        "X=weather.values[:,0:4]\n",
        "Y=weather.values[:,-1]\n",
        "X_train, X_test, y_train, y_test = train_test_split( \n",
        "    X, Y, test_size = 0.2, random_state = 100)"
      ],
      "execution_count": 11,
      "outputs": []
    },
    {
      "cell_type": "code",
      "metadata": {
        "colab": {
          "base_uri": "https://localhost:8080/"
        },
        "id": "dnNoKWvCgHMS",
        "outputId": "01ad0a2c-f7c7-4f9a-db68-ae0659df895e"
      },
      "source": [
        "clf_gini = DecisionTreeClassifier(criterion = \"gini\",\n",
        "            random_state = 26,max_depth=7, min_samples_leaf=26)\n",
        "\n",
        "clf_gini.fit(X_train, y_train)\n"
      ],
      "execution_count": 12,
      "outputs": [
        {
          "output_type": "execute_result",
          "data": {
            "text/plain": [
              "DecisionTreeClassifier(ccp_alpha=0.0, class_weight=None, criterion='gini',\n",
              "                       max_depth=7, max_features=None, max_leaf_nodes=None,\n",
              "                       min_impurity_decrease=0.0, min_impurity_split=None,\n",
              "                       min_samples_leaf=26, min_samples_split=2,\n",
              "                       min_weight_fraction_leaf=0.0, presort='deprecated',\n",
              "                       random_state=26, splitter='best')"
            ]
          },
          "metadata": {},
          "execution_count": 12
        }
      ]
    },
    {
      "cell_type": "code",
      "metadata": {
        "colab": {
          "base_uri": "https://localhost:8080/"
        },
        "id": "fVfqhpmAgLO-",
        "outputId": "2fa4d043-9a12-4d9b-db68-e5087947a7f4"
      },
      "source": [
        "# Predict the classes of test data\n",
        "y_pred = clf_gini.predict(X_test)\n",
        "print(\"Predicted values:\")\n",
        "print(y_pred)"
      ],
      "execution_count": 13,
      "outputs": [
        {
          "output_type": "stream",
          "name": "stdout",
          "text": [
            "Predicted values:\n",
            "[1 1 1]\n"
          ]
        }
      ]
    },
    {
      "cell_type": "code",
      "metadata": {
        "colab": {
          "base_uri": "https://localhost:8080/"
        },
        "id": "MSaB5rMkgO2x",
        "outputId": "96f678d5-8c8e-461a-a464-751ac7019c7b"
      },
      "source": [
        "from sklearn import metrics\n",
        "print(\"Confusion Matrix: \",\n",
        "        metrics.confusion_matrix(y_test, y_pred))\n",
        "print (\"Accuracy : \",\n",
        "    metrics.accuracy_score(y_test,y_pred)*100)\n",
        "print(\"Report : \",\n",
        "    metrics.classification_report(y_test, y_pred))"
      ],
      "execution_count": 14,
      "outputs": [
        {
          "output_type": "stream",
          "name": "stdout",
          "text": [
            "Confusion Matrix:  [[0 1]\n",
            " [0 2]]\n",
            "Accuracy :  66.66666666666666\n",
            "Report :                precision    recall  f1-score   support\n",
            "\n",
            "           0       0.00      0.00      0.00         1\n",
            "           1       0.67      1.00      0.80         2\n",
            "\n",
            "    accuracy                           0.67         3\n",
            "   macro avg       0.33      0.50      0.40         3\n",
            "weighted avg       0.44      0.67      0.53         3\n",
            "\n"
          ]
        },
        {
          "output_type": "stream",
          "name": "stderr",
          "text": [
            "/usr/local/lib/python3.7/dist-packages/sklearn/metrics/_classification.py:1272: UndefinedMetricWarning: Precision and F-score are ill-defined and being set to 0.0 in labels with no predicted samples. Use `zero_division` parameter to control this behavior.\n",
            "  _warn_prf(average, modifier, msg_start, len(result))\n"
          ]
        }
      ]
    }
  ]
}