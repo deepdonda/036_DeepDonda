{
  "nbformat": 4,
  "nbformat_minor": 0,
  "metadata": {
    "colab": {
      "name": "Lab3_1.ipynb",
      "provenance": [],
      "collapsed_sections": []
    },
    "kernelspec": {
      "name": "python3",
      "display_name": "Python 3"
    },
    "language_info": {
      "name": "python"
    }
  },
  "cells": [
    {
      "cell_type": "code",
      "metadata": {
        "id": "OXef0a4JI1Gi"
      },
      "source": [
        "import numpy as np \n",
        "import pandas as pd\n",
        "from sklearn import preprocessing\n",
        "from sklearn.naive_bayes import GaussianNB, MultinomialNB\n"
      ],
      "execution_count": 1,
      "outputs": []
    },
    {
      "cell_type": "code",
      "metadata": {
        "colab": {
          "base_uri": "https://localhost:8080/"
        },
        "id": "aEyPf-sxI2D5",
        "outputId": "f82ddfe6-e857-4aa7-c0e8-fb48589af3fb"
      },
      "source": [
        "from google.colab import drive\n",
        "drive.mount(\"/content/drive\")"
      ],
      "execution_count": 2,
      "outputs": [
        {
          "output_type": "stream",
          "name": "stdout",
          "text": [
            "Mounted at /content/drive\n"
          ]
        }
      ]
    },
    {
      "cell_type": "code",
      "metadata": {
        "colab": {
          "base_uri": "https://localhost:8080/"
        },
        "id": "pLXEx3n0JLLp",
        "outputId": "2e3eb9e3-3d71-4230-8b26-67fd9df130e0"
      },
      "source": [
        "dataset = pd.read_csv(\"/content/drive/MyDrive/L2/Datasets/Dataset1.csv\")\n",
        "print(\"Data :- \\n\",dataset)\n",
        "print(\"Data Statistics :- \\n\",dataset.describe())"
      ],
      "execution_count": 4,
      "outputs": [
        {
          "output_type": "stream",
          "name": "stdout",
          "text": [
            "Data :- \n",
            "    Outlook Temp Humidity Wind Play\n",
            "0        R    H   Normal    F    N\n",
            "1        R    H     High    T    N\n",
            "2        O    H   Normal    F    Y\n",
            "3        S    M   Normal    F    Y\n",
            "4        S    C   Normal    F    Y\n",
            "5        S    C      Low    T    N\n",
            "6        O    C   Normal    T    Y\n",
            "7        R    M   Normal    F    N\n",
            "8        R    C      Low    F    Y\n",
            "9        S    M     High    F    Y\n",
            "10       R    M     High    T    Y\n",
            "11       O    M      Low    T    Y\n",
            "12       O    H   Normal    F    Y\n",
            "13       S    M   Normal    T    N\n",
            "Data Statistics :- \n",
            "        Outlook Temp Humidity Wind Play\n",
            "count       14   14       14   14   14\n",
            "unique       3    3        3    2    2\n",
            "top          R    M   Normal    F    Y\n",
            "freq         5    6        8    8    9\n"
          ]
        }
      ]
    },
    {
      "cell_type": "code",
      "metadata": {
        "id": "jW16FY0pJiCP"
      },
      "source": [
        "le = preprocessing.LabelEncoder()\n",
        "#creating labelEncoder\n"
      ],
      "execution_count": 6,
      "outputs": []
    },
    {
      "cell_type": "code",
      "metadata": {
        "colab": {
          "base_uri": "https://localhost:8080/"
        },
        "id": "69rxU48eJvLd",
        "outputId": "34ba914d-19b5-4822-da10-6a8b8e238fba"
      },
      "source": [
        "# Converting string labels into numbers.\n",
        "outlook_encoded=le.fit_transform(dataset['Outlook'])\n",
        "print(\"Outlook:\" ,outlook_encoded)\n",
        "temp_encoded=le.fit_transform(dataset['Temp'])\n",
        "print(\"Temp:\" ,temp_encoded)\n",
        "humidity_encoded=le.fit_transform(dataset['Humidity'])\n",
        "print(\"Humidity:\" ,humidity_encoded)\n",
        "wind_encoded=le.fit_transform(dataset['Wind'])\n",
        "print(\"Wind:\" ,wind_encoded)\n",
        "play_encoded=le.fit_transform(dataset['Play'])\n",
        "print(\"Play:\" ,play_encoded)"
      ],
      "execution_count": 7,
      "outputs": [
        {
          "output_type": "stream",
          "name": "stdout",
          "text": [
            "Outlook: [1 1 0 2 2 2 0 1 1 2 1 0 0 2]\n",
            "Temp: [1 1 1 2 0 0 0 2 0 2 2 2 1 2]\n",
            "Humidity: [2 0 2 2 2 1 2 2 1 0 0 1 2 2]\n",
            "Wind: [0 1 0 0 0 1 1 0 0 0 1 1 0 1]\n",
            "Play: [0 0 1 1 1 0 1 0 1 1 1 1 1 0]\n"
          ]
        }
      ]
    },
    {
      "cell_type": "code",
      "metadata": {
        "colab": {
          "base_uri": "https://localhost:8080/"
        },
        "id": "DZUeAf8-J3Xi",
        "outputId": "0a0f4118-af4d-4944-d642-7959c0ae42fb"
      },
      "source": [
        "#Combinig Outlook,Temp,Humidity and Wind into single listof tuples\n",
        "features=tuple(zip(outlook_encoded,temp_encoded,humidity_encoded,wind_encoded))\n",
        "print(\"Features:\",features)"
      ],
      "execution_count": 8,
      "outputs": [
        {
          "output_type": "stream",
          "name": "stdout",
          "text": [
            "Features: ((1, 1, 2, 0), (1, 1, 0, 1), (0, 1, 2, 0), (2, 2, 2, 0), (2, 0, 2, 0), (2, 0, 1, 1), (0, 0, 2, 1), (1, 2, 2, 0), (1, 0, 1, 0), (2, 2, 0, 0), (1, 2, 0, 1), (0, 2, 1, 1), (0, 1, 2, 0), (2, 2, 2, 1))\n"
          ]
        }
      ]
    },
    {
      "cell_type": "markdown",
      "metadata": {
        "id": "jDZaF9YEJ-P5"
      },
      "source": [
        "**Train ’Naive Bayes Classifier’**\n"
      ]
    },
    {
      "cell_type": "code",
      "metadata": {
        "colab": {
          "base_uri": "https://localhost:8080/"
        },
        "id": "nWHJbyJnKBn1",
        "outputId": "d8899b12-1c95-40a4-b418-9dc25ebd7bcd"
      },
      "source": [
        "#Create a Classifier\n",
        "model=MultinomialNB()\n",
        "# Train the model using the training sets\n",
        "model.fit(features,play_encoded)"
      ],
      "execution_count": 9,
      "outputs": [
        {
          "output_type": "execute_result",
          "data": {
            "text/plain": [
              "MultinomialNB(alpha=1.0, class_prior=None, fit_prior=True)"
            ]
          },
          "metadata": {},
          "execution_count": 9
        }
      ]
    },
    {
      "cell_type": "markdown",
      "metadata": {
        "id": "tsgWNkVMKJ8f"
      },
      "source": [
        "**Predict Output for new data**"
      ]
    },
    {
      "cell_type": "code",
      "metadata": {
        "colab": {
          "base_uri": "https://localhost:8080/"
        },
        "id": "vMmdC6X0KMKl",
        "outputId": "92d57129-609a-4938-cebb-c1ea36c27894"
      },
      "source": [
        "predicted= model.predict([[1,1,2,0]]) # 1:Overcast, 2:Mild\n",
        "print(\"Predicted Value:\", predicted)\n",
        "\n",
        "\n",
        "predicted= model.predict([[1,1,0,1]]) # 0:Overcast, 2:Mild\n",
        "print(\"Predicted Value:\", predicted)\n",
        "\n",
        "\n",
        "predicted= model.predict([[0,1,2,0]]) # 0:Overcast, 2:Mild\n",
        "print(\"Predicted Value:\", predicted)"
      ],
      "execution_count": 10,
      "outputs": [
        {
          "output_type": "stream",
          "name": "stdout",
          "text": [
            "Predicted Value: [1]\n",
            "Predicted Value: [1]\n",
            "Predicted Value: [1]\n"
          ]
        }
      ]
    }
  ]
}