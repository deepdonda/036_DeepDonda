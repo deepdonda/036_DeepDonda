{
  "nbformat": 4,
  "nbformat_minor": 0,
  "metadata": {
    "colab": {
      "name": "Lab1_LinearAlgebraWithNumPy.ipynb",
      "provenance": [],
      "collapsed_sections": []
    },
    "kernelspec": {
      "name": "python3",
      "display_name": "Python 3"
    },
    "language_info": {
      "name": "python"
    }
  },
  "cells": [
    {
      "cell_type": "code",
      "metadata": {
        "id": "CKIqfThZCL9C"
      },
      "source": [
        "import numpy as np\n",
        "import random\n",
        "import pandas as pd\n"
      ],
      "execution_count": 13,
      "outputs": []
    },
    {
      "cell_type": "code",
      "metadata": {
        "colab": {
          "base_uri": "https://localhost:8080/"
        },
        "id": "hZR0gpDYCXZY",
        "outputId": "4c4ce4be-bf45-4e45-9fe3-1c41e93e9b0b"
      },
      "source": [
        "arr1=[]\n",
        "for i in range(0,3):\n",
        "    list=[]\n",
        "    for j in range(0,2):\n",
        "        list.append(random.randint(0,100))\n",
        "    arr1.append(list)\n",
        "array1=np.array(arr1)\n",
        "print(array1)"
      ],
      "execution_count": 5,
      "outputs": [
        {
          "output_type": "stream",
          "name": "stdout",
          "text": [
            "[[10 22]\n",
            " [ 1 70]\n",
            " [48 90]]\n"
          ]
        }
      ]
    },
    {
      "cell_type": "code",
      "metadata": {
        "colab": {
          "base_uri": "https://localhost:8080/"
        },
        "id": "nvJ8o-4MCgZK",
        "outputId": "c0819160-8f37-45ff-e470-3a1af3d3e81d"
      },
      "source": [
        "arr2=[]\n",
        "for i in range(0,2):\n",
        "    list=[]\n",
        "    for j in range(0,3):\n",
        "        list.append(random.randint(0,100))\n",
        "    arr2.append(list)\n",
        "array2=np.array(arr2)\n",
        "print(array2)"
      ],
      "execution_count": 6,
      "outputs": [
        {
          "output_type": "stream",
          "name": "stdout",
          "text": [
            "[[92 22 50]\n",
            " [20 64 43]]\n"
          ]
        }
      ]
    },
    {
      "cell_type": "code",
      "metadata": {
        "colab": {
          "base_uri": "https://localhost:8080/"
        },
        "id": "eC4Tr4PODDWs",
        "outputId": "0a8f1928-8ebc-4a66-9f6a-4ca5fc1e6c7c"
      },
      "source": [
        "multiplies=np.matmul(array1,array2)\n",
        "multiplies"
      ],
      "execution_count": 7,
      "outputs": [
        {
          "output_type": "execute_result",
          "data": {
            "text/plain": [
              "array([[1360, 1628, 1446],\n",
              "       [1492, 4502, 3060],\n",
              "       [6216, 6816, 6270]])"
            ]
          },
          "metadata": {},
          "execution_count": 7
        }
      ]
    },
    {
      "cell_type": "code",
      "metadata": {
        "colab": {
          "base_uri": "https://localhost:8080/"
        },
        "id": "HuzihEX_DInl",
        "outputId": "b26820a9-6145-4282-acb8-2afd7068ee66"
      },
      "source": [
        "# perform element wise matrix multiplication\n",
        "res = [[0 for x in range(len(array1))] for y in range(len(array2[0]))]\n",
        "\n",
        "for i in range(len(array1)): \n",
        "  for j in range(len(array2[0])): \n",
        "    for k in range(len(array2)): \n",
        "      res[i][j] += array1[i][k] * array2[k][j]\n",
        " \n",
        "print (res)"
      ],
      "execution_count": 8,
      "outputs": [
        {
          "output_type": "stream",
          "name": "stdout",
          "text": [
            "[[1360, 1628, 1446], [1492, 4502, 3060], [6216, 6816, 6270]]\n"
          ]
        }
      ]
    },
    {
      "cell_type": "code",
      "metadata": {
        "colab": {
          "base_uri": "https://localhost:8080/"
        },
        "id": "WFYe7hiPFUe9",
        "outputId": "c169f0d4-0372-4080-dc5b-fe4a25bd93a3"
      },
      "source": [
        "# mean of first matrix\n",
        "mean = np.mean(array1)\n",
        "print(mean)"
      ],
      "execution_count": 9,
      "outputs": [
        {
          "output_type": "stream",
          "name": "stdout",
          "text": [
            "40.166666666666664\n"
          ]
        }
      ]
    },
    {
      "cell_type": "code",
      "metadata": {
        "colab": {
          "base_uri": "https://localhost:8080/"
        },
        "id": "NfFkJtlpWgls",
        "outputId": "3d871f70-ee49-435a-d9d4-b1a73cd37e0a"
      },
      "source": [
        "from google.colab import drive\n",
        "drive.mount(\"/content/drive\")"
      ],
      "execution_count": 11,
      "outputs": [
        {
          "output_type": "stream",
          "name": "stdout",
          "text": [
            "Mounted at /content/drive\n"
          ]
        }
      ]
    },
    {
      "cell_type": "code",
      "metadata": {
        "id": "2BoHsSV2VRFR"
      },
      "source": [
        "\n",
        "main_data = pd.read_csv(\"/content/drive/MyDrive/L2/Datasets/mtcars.csv\")\n"
      ],
      "execution_count": 14,
      "outputs": []
    },
    {
      "cell_type": "code",
      "metadata": {
        "colab": {
          "base_uri": "https://localhost:8080/"
        },
        "id": "m_ehpmrHFWPw",
        "outputId": "bce7ae74-7dba-4c4e-aa1c-eb25e587fd30"
      },
      "source": [
        "del main_data['model']\n",
        "# meancenter\n",
        "meancenter = main_data.apply(lambda e: e - e.mean())\n",
        "print(meancenter.head())"
      ],
      "execution_count": 15,
      "outputs": [
        {
          "output_type": "stream",
          "name": "stdout",
          "text": [
            "        mpg     cyl        disp       hp  ...      vs       am    gear    carb\n",
            "0  0.909375 -0.1875  -70.721875 -36.6875  ... -0.4375  0.59375  0.3125  1.1875\n",
            "1  0.909375 -0.1875  -70.721875 -36.6875  ... -0.4375  0.59375  0.3125  1.1875\n",
            "2  2.709375 -2.1875 -122.721875 -53.6875  ...  0.5625  0.59375  0.3125 -1.8125\n",
            "3  1.309375 -0.1875   27.278125 -36.6875  ...  0.5625 -0.40625 -0.6875 -1.8125\n",
            "4 -1.390625  1.8125  129.278125  28.3125  ... -0.4375 -0.40625 -0.6875 -0.8125\n",
            "\n",
            "[5 rows x 11 columns]\n"
          ]
        }
      ]
    }
  ]
}